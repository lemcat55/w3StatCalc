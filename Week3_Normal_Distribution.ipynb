{
  "nbformat": 4,
  "nbformat_minor": 0,
  "metadata": {
    "colab": {
      "provenance": [],
      "toc_visible": true,
      "authorship_tag": "ABX9TyPlREpv4qYJvXzZO+9zU+TK",
      "include_colab_link": true
    },
    "kernelspec": {
      "name": "python3",
      "display_name": "Python 3"
    },
    "language_info": {
      "name": "python"
    }
  },
  "cells": [
    {
      "cell_type": "markdown",
      "metadata": {
        "id": "view-in-github",
        "colab_type": "text"
      },
      "source": [
        "<a href=\"https://colab.research.google.com/github/lemcat55/w3StatCalc/blob/main/Week3_Normal_Distribution.ipynb\" target=\"_parent\"><img src=\"https://colab.research.google.com/assets/colab-badge.svg\" alt=\"Open In Colab\"/></a>"
      ]
    },
    {
      "cell_type": "markdown",
      "source": [
        "#How to use this application\n",
        "To use this application, you have to be signed in one of your Google accounts (e.g., keep your Gmail open while working with Colab).\n",
        "1.\tClick the white triangle inside the black circle in the cell [1]. It is a one-time operation for the entire session - no matter how many problems you are going to solve. This operation loads necessary libraries and defines two functions that will be used for graphing results. As an alternative, you can click Run All in Runtime section of the menu at the top of the application.\n",
        "2.\tIn Table of contents (on the left side of the application), find the type of the problem you are solving, for example, \"Find P(X < x1) for given x1\" and click that item. It will bring you to the code for the problem. \n",
        "You do not need to understand the code; you just need to enter your input data in first few lines of the code (between two lines ############). \n",
        "The variable N denotes the size of a population, the variable n – the size of a sample. If N is unknown, use N=None; if your problem deals only with a population (not with a sample), use n=None. \n",
        "Run the code by clicking the white triangle inside the black circle of the code’s cell. The graphical and numerical results will be displayed.\n",
        "3.\tTo solve the next problem, go to point 2 of this instruction.\n",
        "\n"
      ],
      "metadata": {
        "id": "2XZy20MQjpg1"
      }
    },
    {
      "cell_type": "markdown",
      "source": [
        "# 1: Define functions for graphing the results"
      ],
      "metadata": {
        "id": "vDTFFH3mvcpP"
      }
    },
    {
      "cell_type": "code",
      "source": [
        "import numpy as np\n",
        "import matplotlib.pyplot as plt\n",
        "import scipy.stats as stats\n",
        "def g(mean,std,clr,x1,x2):\n",
        "  i1=0\n",
        "  i2=600\n",
        "  left=mean-3*std\n",
        "  right=mean+3*std\n",
        "  x=np.linspace(left,right,i2+1)\n",
        "  deltaX=6*std/i2\n",
        "  y1=stats.norm.pdf(x,mean,std)\n",
        "  y=y1.copy()\n",
        "\n",
        "\n",
        "  if x1==None:\n",
        "    i2=int((x2-left)/deltaX)\n",
        "    if i2>600: i2=600\n",
        "    #print(\"i2=\",i2)\n",
        "    y1[0:i2:1]=0  \n",
        "  elif x2==None:\n",
        "    i1=int((x1-left)/deltaX)\n",
        "    if i1<0: i1=0\n",
        "    y1[i1:600:1]=0\n",
        "  else:\n",
        "    i1=int((x1-left)/deltaX)\n",
        "    if i1<0: i1=0\n",
        "    i2=int((x2-left)/deltaX)\n",
        "    if i2>600: i2=600\n",
        "    y1[0:i1:1]=0\n",
        "    y1[i2:600:1]=0\n",
        "\n",
        "  y2=0*x\n",
        "  plt.rcParams[\"figure.figsize\"]=(4,2)\n",
        "  plt.fill_between(x, y1, step=\"pre\", alpha=1, color=clr)\n",
        "  plt.fill_between(x, y2, step=\"pre\", alpha=1, color=clr)\n",
        "  plt.plot(x, y1, drawstyle=\"steps\", color=\"white\")\n",
        "  plt.plot(x, y2, drawstyle=\"steps\", color=\"white\")\n",
        "  plt.plot(x,y)\n",
        "\n",
        "def f(mean,std,clr,P,side):\n",
        "  if side==\"left\":\n",
        "    x1=stats.norm.ppf(P,loc=mean,scale=std)\n",
        "    x2=None\n",
        "  elif side==\"right\":\n",
        "    x1=None\n",
        "    x2=stats.norm.ppf(1-P,loc=mean,scale=std)\n",
        "  else:#midle\n",
        "    x1=stats.norm.ppf((1-P)/2,loc=mean,scale=std)\n",
        "    x2=stats.norm.ppf((1+P)/2,loc=mean,scale=std)\n",
        "  \n",
        "  g(mean,std,clr,x1,x2)"
      ],
      "metadata": {
        "id": "bNsaadGPUFWM"
      },
      "execution_count": null,
      "outputs": []
    },
    {
      "cell_type": "markdown",
      "source": [
        "# 2: Find P(X < x1) for given x1"
      ],
      "metadata": {
        "id": "5pLOJo6ev6QG"
      }
    },
    {
      "cell_type": "code",
      "source": [
        "##  Enter your data #################\n",
        "mean=200\n",
        "std=10\n",
        "x1=185\n",
        "n=None\n",
        "N=None\n",
        "############\n",
        "if not n==None:\n",
        "  std/=np.sqrt(n)\n",
        "  if not N==None:\n",
        "    std*=np.sqrt((N-n)/(N-1))\n",
        "g(mean,std,\"red\",x1,None)\n",
        "print(\"exact solution: P( X <\",x1,\")=\",stats.norm.cdf(x1,mean,std))\n",
        "z1=(x1-mean)/std\n",
        "z1=np.round(z1,2)\n",
        "print(\"with rounded z: P( X <\",x1,\")=\",np.round(stats.norm.cdf(z1,0,1),4))"
      ],
      "metadata": {
        "colab": {
          "base_uri": "https://localhost:8080/",
          "height": 192
        },
        "id": "_nq54UUCwCc4",
        "outputId": "2fb667d4-4879-42b1-c86e-51f0e5f3b7f3"
      },
      "execution_count": null,
      "outputs": [
        {
          "output_type": "stream",
          "name": "stdout",
          "text": [
            "exact solution: P( X < 185 )= 0.06680720126885807\n",
            "with rounded z: P( X < 185 )= 0.0668\n"
          ]
        },
        {
          "output_type": "display_data",
          "data": {
            "text/plain": [
              "<Figure size 288x144 with 1 Axes>"
            ],
            "image/png": "[encoded data removed]"
          },
          "metadata": {
            "needs_background": "light"
          }
        }
      ]
    },
    {
      "cell_type": "markdown",
      "source": [
        "# 3: Find P(X > x2) for given x2"
      ],
      "metadata": {
        "id": "UrUzU8GwHIwD"
      }
    },
    {
      "cell_type": "code",
      "source": [
        "##  Enter your data #################\n",
        "mean=281\n",
        "std=47\n",
        "x2=272\n",
        "n=50\n",
        "N=None\n",
        "############\n",
        "if not n==None:\n",
        "  std/=np.sqrt(n)\n",
        "  if not N==None:\n",
        "    std*=np.sqrt((N-n)/(N-1))\n",
        "g(mean,std,\"red\",None,x2)\n",
        "print(\"exact solution: P( X <\",x2,\")=\",1-stats.norm.cdf(x2,mean,std))\n",
        "z2=(x2-mean)/std\n",
        "z2=np.round(z2,2)\n",
        "print(\"with rounded z: P( X <\",x2,\")=\",np.round(1-stats.norm.cdf(z2,0,1),4))"
      ],
      "metadata": {
        "colab": {
          "base_uri": "https://localhost:8080/",
          "height": 192
        },
        "id": "akXMoQfdHb3j",
        "outputId": "d2855cdd-6bcd-4d2a-94d7-791a2308fc52"
      },
      "execution_count": null,
      "outputs": [
        {
          "output_type": "stream",
          "name": "stdout",
          "text": [
            "exact solution: P( X < 272 )= 0.9121372764071188\n",
            "with rounded z: P( X < 272 )= 0.9115\n"
          ]
        },
        {
          "output_type": "display_data",
          "data": {
            "text/plain": [
              "<Figure size 288x144 with 1 Axes>"
            ],
            "image/png": "[encoded data removed]"
          },
          "metadata": {
            "needs_background": "light"
          }
        }
      ]
    },
    {
      "cell_type": "markdown",
      "source": [],
      "metadata": {
        "id": "piBm4K_1KqVt"
      }
    },
    {
      "cell_type": "markdown",
      "source": [
        "# 4: Find P(x1 < X < x2) for given x1 and x2"
      ],
      "metadata": {
        "id": "4hNdkZySxHNC"
      }
    },
    {
      "cell_type": "code",
      "source": [
        "##  Enter your data #################\n",
        "mean=50\n",
        "std=14\n",
        "x1=46.5\n",
        "x2=53.5\n",
        "n=64\n",
        "N=None\n",
        "############\n",
        "if not n==None:\n",
        "  std/=np.sqrt(n)\n",
        "  if not N==None:\n",
        "    std*=np.sqrt((N-n)/(N-1))\n",
        "g(mean,std,\"red\",x1,x2)\n",
        "P2=stats.norm.cdf(x2,mean,std)\n",
        "P1=stats.norm.cdf(x1,mean,std)\n",
        "print(\"exact solution: P(\",x1,\"< X <\",x2,\")=\",P2-P1)\n",
        "z1=(x1-mean)/std\n",
        "z1=np.round(z1,2)\n",
        "z2=(x2-mean)/std\n",
        "z2=np.round(z2,2)\n",
        "P2=np.round(stats.norm.cdf(z2,0,1),4)\n",
        "P1=np.round(stats.norm.cdf(z1,0,1),4)\n",
        "print(\"with rounded z: P(\",x1,\"< X <\",x2,\")=\",np.round((P2-P1),4))"
      ],
      "metadata": {
        "colab": {
          "base_uri": "https://localhost:8080/",
          "height": 192
        },
        "id": "T8uDEAeBx6ck",
        "outputId": "1df8c953-d34f-49c8-a2c6-41528e96a843"
      },
      "execution_count": null,
      "outputs": [
        {
          "output_type": "stream",
          "name": "stdout",
          "text": [
            "exact solution: P( 46.5 < X < 53.5 )= 0.9544997361036416\n",
            "with rounded z: P( 46.5 < X < 53.5 )= 0.9544\n"
          ]
        },
        {
          "output_type": "display_data",
          "data": {
            "text/plain": [
              "<Figure size 288x144 with 1 Axes>"
            ],
            "image/png": "[encoded data removed]"
          },
          "metadata": {
            "needs_background": "light"
          }
        }
      ]
    },
    {
      "cell_type": "markdown",
      "source": [
        "# 5: Find x1 for given P1=P(X < x1)"
      ],
      "metadata": {
        "id": "BBp_7A1G7cRO"
      }
    },
    {
      "cell_type": "code",
      "source": [
        "##  Enter your data #################\n",
        "mean=200\n",
        "std=40\n",
        "P1=0.14\n",
        "n=None\n",
        "N=None\n",
        "#################\n",
        "if not n==None:\n",
        "  std/=np.sqrt(n)\n",
        "  if not N==None:\n",
        "    std*=np.sqrt((N-n)/(N-1))\n",
        "f(mean,std,\"lightgreen\",P1,\"left\")\n",
        "x1=stats.norm.ppf(P1,loc=mean,scale=std)\n",
        "print(\"exact solution: x1 =\",x1)\n",
        "z1=(x1-mean)/std\n",
        "z1=np.round(z1,2)\n",
        "x1=z1*std+mean\n",
        "print(\"with rounded z: x1 =\",x1)"
      ],
      "metadata": {
        "colab": {
          "base_uri": "https://localhost:8080/",
          "height": 192
        },
        "id": "JMbLAjKG7pXb",
        "outputId": "7977a613-f40a-4a3c-9fac-d2bb431a66fd"
      },
      "execution_count": null,
      "outputs": [
        {
          "output_type": "stream",
          "name": "stdout",
          "text": [
            "exact solution: x1 = 156.78722636740176\n",
            "with rounded z: x1 = 156.8\n"
          ]
        },
        {
          "output_type": "display_data",
          "data": {
            "text/plain": [
              "<Figure size 288x144 with 1 Axes>"
            ],
            "image/png": "[encoded data removed]"
          },
          "metadata": {
            "needs_background": "light"
          }
        }
      ]
    },
    {
      "cell_type": "markdown",
      "source": [
        "#6: Find x2 for given P2=P(X > x2)"
      ],
      "metadata": {
        "id": "bCljkvpDBmaG"
      }
    },
    {
      "cell_type": "code",
      "source": [
        "##  Enter your data #################\n",
        "mean=400\n",
        "std=20\n",
        "P2=0.60\n",
        "n=None\n",
        "N=None\n",
        "############\n",
        "if not n==None:\n",
        "  std/=np.sqrt(n)\n",
        "  if not N==None:\n",
        "    std*=np.sqrt((N-n)/(N-1))\n",
        "f(mean,std,\"lightgreen\",P2,\"right\")\n",
        "x2=stats.norm.ppf(1-P2,loc=mean,scale=std)\n",
        "print(\"exact solution: x2 =\",x2)\n",
        "z2=(x2-mean)/std\n",
        "z2=np.round(z2,2)\n",
        "x2=z2*std+mean\n",
        "print(\"with rounded z: x2 =\",x2)"
      ],
      "metadata": {
        "colab": {
          "base_uri": "https://localhost:8080/",
          "height": 192
        },
        "id": "o4ftGaLaBx_G",
        "outputId": "67a6300c-b079-4d26-8520-868560f205d4"
      },
      "execution_count": null,
      "outputs": [
        {
          "output_type": "stream",
          "name": "stdout",
          "text": [
            "exact solution: x2 = 394.933057937284\n",
            "with rounded z: x2 = 395.0\n"
          ]
        },
        {
          "output_type": "display_data",
          "data": {
            "text/plain": [
              "<Figure size 288x144 with 1 Axes>"
            ],
            "image/png": "[encoded data removed]"
          },
          "metadata": {
            "needs_background": "light"
          }
        }
      ]
    },
    {
      "cell_type": "markdown",
      "source": [
        "#7: Find x1 and x2 for given P12=P(x1 < X < x2), where (x1+x2)/2=mean"
      ],
      "metadata": {
        "id": "n2X2E34DGziX"
      }
    },
    {
      "cell_type": "code",
      "source": [
        "##  Enter your data #################\n",
        "mean=0\n",
        "std=1\n",
        "P12=0.95\n",
        "n=None\n",
        "N=None\n",
        "############\n",
        "if not n==None:\n",
        "  std/=np.sqrt(n)\n",
        "  if not N==None:\n",
        "    std*=np.sqrt((N-n)/(N-1))\n",
        "f(mean,std,\"lightgreen\",P12,\"middle\")\n",
        "x1=stats.norm.ppf((1-P12)/2,loc=mean,scale=std)\n",
        "print(\"exact solution: x1 =\",x1)\n",
        "x2=stats.norm.ppf((1+P12)/2,loc=mean,scale=std)\n",
        "print(\"exact solution: x2 =\",x2)\n",
        "z1=(x1-mean)/std\n",
        "z1=np.round(z1,2)\n",
        "x1=z1*std+mean\n",
        "print(\"with rounded z: x1 =\",x1)\n",
        "z2=(x2-mean)/std\n",
        "z2=np.round(z2,2)\n",
        "x2=z2*std+mean\n",
        "print(\"with rounded z: x2 =\",x2)"
      ],
      "metadata": {
        "colab": {
          "base_uri": "https://localhost:8080/",
          "height": 226
        },
        "id": "0XRQ6bDFHasv",
        "outputId": "e1542623-a575-4156-880a-1884cd0e0538"
      },
      "execution_count": null,
      "outputs": [
        {
          "output_type": "stream",
          "name": "stdout",
          "text": [
            "exact solution: x1 = -1.959963984540054\n",
            "exact solution: x2 = 1.959963984540054\n",
            "with rounded z: x1 = -1.96\n",
            "with rounded z: x2 = 1.96\n"
          ]
        },
        {
          "output_type": "display_data",
          "data": {
            "text/plain": [
              "<Figure size 288x144 with 1 Axes>"
            ],
            "image/png": "[encoded data removed]"
          },
          "metadata": {
            "needs_background": "light"
          }
        }
      ]
    },
    {
      "cell_type": "markdown",
      "source": [
        "#8:  Proportions: Find P(pHat < p1) given p1"
      ],
      "metadata": {
        "id": "GvbG70OMWIA0"
      }
    },
    {
      "cell_type": "code",
      "source": [
        "##  Enter your data #################\n",
        "p=0.48\n",
        "n=190\n",
        "p1=83/190\n",
        "N=None\n",
        "############\n",
        "mean=p\n",
        "x1=p1\n",
        "std=np.sqrt(p*(1-p)/n)\n",
        "if not N==None:\n",
        "  std*=np.sqrt((N-n)/(N-1))\n",
        "g(mean,std,\"red\",x1,None)\n",
        "print(\"exact solution: P( X <\",x1,\")=\",stats.norm.cdf(x1,mean,std))\n",
        "z1=(x1-mean)/std\n",
        "z1=np.round(z1,2)\n",
        "print(\"with rounded z: P( X <\",x1,\")=\",np.round(stats.norm.cdf(z1,0,1),4))"
      ],
      "metadata": {
        "colab": {
          "base_uri": "https://localhost:8080/",
          "height": 192
        },
        "id": "_c_4s0oMXoyf",
        "outputId": "e725718b-2171-4bf1-aa7b-950a64ba8384"
      },
      "execution_count": null,
      "outputs": [
        {
          "output_type": "stream",
          "name": "stdout",
          "text": [
            "exact solution: P( X < 0.4368421052631579 )= 0.11687900928944622\n",
            "with rounded z: P( X < 0.4368421052631579 )= 0.117\n"
          ]
        },
        {
          "output_type": "display_data",
          "data": {
            "text/plain": [
              "<Figure size 288x144 with 1 Axes>"
            ],
            "image/png": "[encoded data removed]"
          },
          "metadata": {
            "needs_background": "light"
          }
        }
      ]
    },
    {
      "cell_type": "markdown",
      "source": [
        "#9: Proportions: Find P(pHat > p2) given p2"
      ],
      "metadata": {
        "id": "IdmYjRULfoKs"
      }
    },
    {
      "cell_type": "code",
      "source": [
        "##  Enter your data #################\n",
        "p=0.4\n",
        "n=300\n",
        "p2=0.45\n",
        "N=None\n",
        "############\n",
        "mean=p\n",
        "x2=p2\n",
        "std=np.sqrt(p*(1-p)/n)\n",
        "if not N==None:\n",
        "  std*=np.sqrt((N-n)/(N-1))\n",
        "g(mean,std,\"red\",None,x2)\n",
        "print(\"exact solution: P( pHat >\",x2,\")=\",1-stats.norm.cdf(x2,mean,std))\n",
        "z2=(x2-mean)/std\n",
        "z2=np.round(z2,2)\n",
        "print(\"with rounded z: P( X >\",x2,\")=\",np.round(1-stats.norm.cdf(z2,0,1),4))"
      ],
      "metadata": {
        "colab": {
          "base_uri": "https://localhost:8080/",
          "height": 192
        },
        "id": "-23UP_3VhPoQ",
        "outputId": "09594926-5885-45bc-a31a-1a74d99d8278"
      },
      "execution_count": null,
      "outputs": [
        {
          "output_type": "stream",
          "name": "stdout",
          "text": [
            "exact solution: P( pHat > 0.45 )= 0.03854993587177091\n",
            "with rounded z: P( X > 0.45 )= 0.0384\n"
          ]
        },
        {
          "output_type": "display_data",
          "data": {
            "text/plain": [
              "<Figure size 288x144 with 1 Axes>"
            ],
            "image/png": "[encoded data removed]"
          },
          "metadata": {
            "needs_background": "light"
          }
        }
      ]
    },
    {
      "cell_type": "markdown",
      "source": [
        "#10: Proportions: Find P(p1 < pHat < p2) given p1 and p2 "
      ],
      "metadata": {
        "id": "YTkMIRhITDCt"
      }
    },
    {
      "cell_type": "code",
      "source": [
        "##  Enter your data #################\n",
        "p=0.6\n",
        "n=657\n",
        "p1=0.56\n",
        "p2=0.62\n",
        "N=None\n",
        "############\n",
        "mean=p\n",
        "x1=p1\n",
        "x2=p2\n",
        "std=np.sqrt(p*(1-p)/n)\n",
        "if not N==None:\n",
        "  std*=np.sqrt((N-n)/(N-1))\n",
        "g(mean,std,\"red\",x1,x2)\n",
        "print(\"exact solution: P(\",p1,\"< pHat <\",p2,\")=\",stats.norm.cdf(x2,mean,std)-stats.norm.cdf(x1,mean,std))\n",
        "z1=(x1-mean)/std\n",
        "z1=np.round(z1,2)\n",
        "z2=(x2-mean)/std\n",
        "z2=np.round(z2,2)\n",
        "A1=np.round(stats.norm.cdf(z2,0,1),4)\n",
        "A2=np.round(stats.norm.cdf(z1,0,1),4)\n",
        "print(\"with rounded z: P( X <\",x2,\")=\",np.round((A1-A2),4))"
      ],
      "metadata": {
        "id": "vHvy0_RjTN_n",
        "colab": {
          "base_uri": "https://localhost:8080/",
          "height": 192
        },
        "outputId": "03fe9279-7361-49f2-8686-d453eea06678"
      },
      "execution_count": null,
      "outputs": [
        {
          "output_type": "stream",
          "name": "stdout",
          "text": [
            "exact solution: P( 0.56 < pHat < 0.62 )= 0.834135491398947\n",
            "with rounded z: P( X < 0.62 )= 0.8348\n"
          ]
        },
        {
          "output_type": "display_data",
          "data": {
            "text/plain": [
              "<Figure size 288x144 with 1 Axes>"
            ],
            "image/png": "[encoded data removed]"
          },
          "metadata": {
            "needs_background": "light"
          }
        }
      ]
    },
    {
      "cell_type": "markdown",
      "source": [
        "#11: Proportions: Find p1 given P(pHat < p1)"
      ],
      "metadata": {
        "id": "XtNSE7OrZErd"
      }
    },
    {
      "cell_type": "code",
      "source": [
        "##  Enter your data #################\n",
        "P=0.3\n",
        "p1=348/1200\n",
        "n=1220\n",
        "N=None\n",
        "############\n",
        "mean=p\n",
        "std=np.sqrt(p*(1-p)/n)\n",
        "if not N==None:\n",
        "  std*=np.sqrt((N-n)/(N-1))\n",
        "f(mean,std,\"lightgreen\",P,\"left\")\n",
        "print(\"p1 =\",stats.norm.ppf(P,loc=mean,scale=std))"
      ],
      "metadata": {
        "colab": {
          "base_uri": "https://localhost:8080/",
          "height": 174
        },
        "id": "GjummU4yZVsG",
        "outputId": "38c6b028-5af2-4f47-9769-f19ad1922e83"
      },
      "execution_count": null,
      "outputs": [
        {
          "output_type": "stream",
          "name": "stdout",
          "text": [
            "p1 = 0.3926448960815296\n"
          ]
        },
        {
          "output_type": "display_data",
          "data": {
            "text/plain": [
              "<Figure size 288x144 with 1 Axes>"
            ],
            "image/png": "[encoded data removed]"
          },
          "metadata": {
            "needs_background": "light"
          }
        }
      ]
    },
    {
      "cell_type": "markdown",
      "source": [
        "#12: Proportions: Find p2 given P(pHat > p2)"
      ],
      "metadata": {
        "id": "Y9AmHj3RcuBF"
      }
    },
    {
      "cell_type": "code",
      "source": [
        "##  Enter your data #################\n",
        "P=0.068\n",
        "p=0.1\n",
        "n=80\n",
        "N=None\n",
        "############\n",
        "mean=p\n",
        "std=np.sqrt(p*(1-p)/n)\n",
        "if not N==None:\n",
        "  std*=np.sqrt((N-n)/(N-1))\n",
        "f(mean,std,\"lightgreen\",P,\"right\")\n",
        "print(\"p2 =\",stats.norm.ppf(1-P,loc=mean,scale=std))"
      ],
      "metadata": {
        "id": "gD6i-1qxcxJ6",
        "colab": {
          "base_uri": "https://localhost:8080/",
          "height": 174
        },
        "outputId": "b75c4d3f-a116-40a6-8fc4-3238f10085d6"
      },
      "execution_count": null,
      "outputs": [
        {
          "output_type": "stream",
          "name": "stdout",
          "text": [
            "p2 = 0.15000474170222763\n"
          ]
        },
        {
          "output_type": "display_data",
          "data": {
            "text/plain": [
              "<Figure size 288x144 with 1 Axes>"
            ],
            "image/png": "[encoded data removed]"
          },
          "metadata": {
            "needs_background": "light"
          }
        }
      ]
    },
    {
      "cell_type": "markdown",
      "source": [
        "# 13: Proportions: Find p1 and p2  given P(p1 < pHat < p2), where (p1+p2)/2=p"
      ],
      "metadata": {
        "id": "NisRUVsDekEW"
      }
    },
    {
      "cell_type": "code",
      "source": [
        "##  Enter your data #################\n",
        "P=0.74\n",
        "p=0.60\n",
        "n=120\n",
        "N=None\n",
        "############\n",
        "mean=p\n",
        "std=np.sqrt(p*(1-p)/n)\n",
        "if not N==None:\n",
        "  std*=np.sqrt((N-n)/(N-1))\n",
        "f(mean,std,\"lightgreen\",P,\"midle\")\n",
        "print(\"p1 =\",stats.norm.ppf((1-P)/2,loc=mean,scale=std))\n",
        "print(\"p2 =\",stats.norm.ppf((1+P)/2,loc=mean,scale=std))"
      ],
      "metadata": {
        "colab": {
          "base_uri": "https://localhost:8080/",
          "height": 192
        },
        "id": "eLfonkIle28l",
        "outputId": "4bdeaf92-aad3-451c-f4c2-eaa28da5f99e"
      },
      "execution_count": null,
      "outputs": [
        {
          "output_type": "stream",
          "name": "stdout",
          "text": [
            "p1 = 0.54962625732433\n",
            "p2 = 0.6503737426756699\n"
          ]
        },
        {
          "output_type": "display_data",
          "data": {
            "text/plain": [
              "<Figure size 288x144 with 1 Axes>"
            ],
            "image/png": "[encoded data removed]"
          },
          "metadata": {
            "needs_background": "light"
          }
        }
      ]
    },
    {
      "cell_type": "markdown",
      "source": [
        "# 14: Graphs of Normal Probability Density Function (PDF) and Normal Cumulative Distribition Function (CDF)."
      ],
      "metadata": {
        "id": "GfVcVew2e91e"
      }
    },
    {
      "cell_type": "code",
      "source": [
        "from scipy.stats import norm\n",
        "import matplotlib.pyplot as plt\n",
        "##  Enter your data #################\n",
        "mean=2\n",
        "std=2\n",
        "###########\n",
        "left=mean-3*std\n",
        "right=mean+3*std\n",
        "x=np.linspace(left,right,101)\n",
        "pdf=norm.pdf(x, loc=mean, scale=std)\n",
        "cdf=norm.cdf(x, loc=mean, scale=std)\n",
        "plt.plot(x,pdf,'r', label='PDF')\n",
        "plt.plot(x,cdf,'b', label='CDF')\n",
        "plt.legend(loc=\"upper left\")\n",
        "plt.show()"
      ],
      "metadata": {
        "colab": {
          "base_uri": "https://localhost:8080/",
          "height": 157
        },
        "id": "osAY2JlZhvnJ",
        "outputId": "0cf93dc3-f096-4f16-a9a6-4cf31eaecc5b"
      },
      "execution_count": null,
      "outputs": [
        {
          "output_type": "display_data",
          "data": {
            "text/plain": [
              "<Figure size 288x144 with 1 Axes>"
            ],
            "image/png": "[encoded data removed]"
          },
          "metadata": {
            "needs_background": "light"
          }
        }
      ]
    },
    {
      "cell_type": "markdown",
      "source": [
        "# 15: CDF values."
      ],
      "metadata": {
        "id": "piEnvEBwYj7w"
      }
    },
    {
      "cell_type": "code",
      "source": [
        "from scipy.stats import norm\n",
        "import numpy as np\n",
        "##  Enter your data #################\n",
        "z1=-2.25\n",
        "z2=-1.75\n",
        "############\n",
        "m=4\n",
        "A1=norm.cdf(z1)# area to the left from z1\n",
        "A=norm.cdf(z2)\n",
        "A2=1-norm.cdf(z2)# area to the right from z2\n",
        "A12=norm.cdf(z2)-norm.cdf(z1) # Area between z1 and z2\n",
        "print('A1 =',np.round(A1,m))\n",
        "print('A =',np.round(A,m),'A2 =',np.round(A2,m))\n",
        "if (z1<z2):\n",
        "  print('A12 =',A12)"
      ],
      "metadata": {
        "colab": {
          "base_uri": "https://localhost:8080/"
        },
        "id": "jg9JVHhsY4O5",
        "outputId": "c5d98290-fc29-492c-ae6c-945dbb9d29bb"
      },
      "execution_count": null,
      "outputs": [
        {
          "output_type": "stream",
          "name": "stdout",
          "text": [
            "A1 = 0.0122\n",
            "A = 0.0401 A2 = 0.9599\n",
            "A12 = 0.02783468420877239\n"
          ]
        }
      ]
    },
    {
      "cell_type": "code",
      "source": [],
      "metadata": {
        "id": "Z81w2tyca6aH"
      },
      "execution_count": null,
      "outputs": []
    },
    {
      "cell_type": "markdown",
      "source": [
        "# 16: Inverse *CDF values*.\n",
        "\n"
      ],
      "metadata": {
        "id": "c1GTV6zTZuA-"
      }
    },
    {
      "cell_type": "code",
      "source": [
        "from scipy.stats import norm\n",
        "##  Enter your data #################\n",
        "A=0.3\n",
        "################################\n",
        "z=norm.ppf(A,loc=0,scale=1)\n",
        "print('z=',z)"
      ],
      "metadata": {
        "colab": {
          "base_uri": "https://localhost:8080/"
        },
        "id": "5XJjQZgMZ7SU",
        "outputId": "1cbe982a-1ac5-41cd-a93a-762c41e5f71b"
      },
      "execution_count": null,
      "outputs": [
        {
          "output_type": "stream",
          "name": "stdout",
          "text": [
            "z= -0.5244005127080409\n"
          ]
        }
      ]
    },
    {
      "cell_type": "markdown",
      "source": [
        "# 17: Central Limit Theorem. Build distribution of means of N samples of size n each from uniform random generator\n",
        "\n"
      ],
      "metadata": {
        "id": "t-TkvDWOMJYo"
      }
    },
    {
      "cell_type": "code",
      "source": [
        "import numpy as np\n",
        "import matplotlib.pyplot as plt\n",
        "##  Enter your data #################\n",
        "n=125\n",
        "N=10000\n",
        "##############################\n",
        "# create N samples of size n\n",
        "means=[]\n",
        "for i in range(N):\n",
        "  s=np.random.uniform(0,1,n)\n",
        "  means.append(np.mean(s))\n",
        "mm=np.mean(means)\n",
        "sig=np.sqrt(np.var(means))\n",
        "min=mm-3*sig\n",
        "if min<0: min=0\n",
        "max=mm+3*sig\n",
        "if max>1:max=1\n",
        "bb=np.linspace(min,max,11)\n",
        "plt.rcParams.update({'font.size': 20})\n",
        "plt.hist(means)\n",
        "plt.show()\n",
        "# To get statistics from your random samples use np.var and np.mean \n",
        "print(\"Size=\",n)\n",
        "print(\"sMean/mu=\",np.mean(means)/0.5)\n",
        "print(\"s*sqrt(n)/sigma=\",np.sqrt(n*np.var(means))*np.sqrt(12))"
      ],
      "metadata": {
        "id": "7_x20mcDM4ZP",
        "colab": {
          "base_uri": "https://localhost:8080/",
          "height": 218
        },
        "outputId": "42906441-c57d-480d-c62b-d30189f2ff0c"
      },
      "execution_count": null,
      "outputs": [
        {
          "output_type": "display_data",
          "data": {
            "text/plain": [
              "<Figure size 288x144 with 1 Axes>"
            ],
            "image/png": "[encoded data removed]"
          },
          "metadata": {
            "needs_background": "light"
          }
        },
        {
          "output_type": "stream",
          "name": "stdout",
          "text": [
            "Size= 125\n",
            "sMean/mu= 0.9995626642465666\n",
            "s*sqrt(n)/sigma= 1.0002350136068248\n"
          ]
        }
      ]
    }
  ]
}